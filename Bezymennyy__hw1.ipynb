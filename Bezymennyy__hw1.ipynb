{
  "cells": [
    {
      "cell_type": "code",
      "execution_count": 3,
      "id": "2684d4c1-2c0f-4267-a961-6336e0f56de0",
      "metadata": {
        "id": "2684d4c1-2c0f-4267-a961-6336e0f56de0"
      },
      "outputs": [],
      "source": [
        "import pandas as pd\n",
        "import numpy as np\n",
        "from matplotlib import pyplot as plt\n",
        "import seaborn as sns"
      ]
    },
    {
      "cell_type": "markdown",
      "id": "0de7e35e-3822-4a9a-9db1-08cb41180c6c",
      "metadata": {
        "id": "0de7e35e-3822-4a9a-9db1-08cb41180c6c"
      },
      "source": [
        "1.Створіть одновимірний масив (вектор) з першими 20-ма натуральними числами та виведіть його значення."
      ]
    },
    {
      "cell_type": "code",
      "execution_count": 4,
      "id": "cd4b1cd4-bdc4-4de5-b834-ea4d3a013707",
      "metadata": {
        "colab": {
          "base_uri": "https://localhost:8080/"
        },
        "id": "cd4b1cd4-bdc4-4de5-b834-ea4d3a013707",
        "outputId": "6be4b60b-7ecb-40f7-815c-d4f944d2b93f"
      },
      "outputs": [
        {
          "output_type": "execute_result",
          "data": {
            "text/plain": [
              "array([ 1,  2,  3,  4,  5,  6,  7,  8,  9, 10, 11, 12, 13, 14, 15, 16, 17,\n",
              "       18, 19, 20])"
            ]
          },
          "metadata": {},
          "execution_count": 4
        }
      ],
      "source": [
        "np.arange(1,21)"
      ]
    },
    {
      "cell_type": "markdown",
      "id": "9193275d-f3d1-4c1a-96e0-977935383745",
      "metadata": {
        "id": "9193275d-f3d1-4c1a-96e0-977935383745"
      },
      "source": [
        "Створіть двовимірний масив (матрицю) розміром 4x4, заповніть його одиницями та виведіть його значення."
      ]
    },
    {
      "cell_type": "code",
      "execution_count": 5,
      "id": "c035222e-d03b-4eae-9d87-359ba1f13905",
      "metadata": {
        "colab": {
          "base_uri": "https://localhost:8080/"
        },
        "id": "c035222e-d03b-4eae-9d87-359ba1f13905",
        "outputId": "3d90caf2-a89e-4873-fe44-14c9d00d4364"
      },
      "outputs": [
        {
          "output_type": "execute_result",
          "data": {
            "text/plain": [
              "array([[1., 1., 1., 1.],\n",
              "       [1., 1., 1., 1.],\n",
              "       [1., 1., 1., 1.],\n",
              "       [1., 1., 1., 1.]])"
            ]
          },
          "metadata": {},
          "execution_count": 5
        }
      ],
      "source": [
        "np.ones((4, 4))"
      ]
    },
    {
      "cell_type": "markdown",
      "id": "4c6f2dcc-562a-4a84-9067-4d5d014143da",
      "metadata": {
        "id": "4c6f2dcc-562a-4a84-9067-4d5d014143da"
      },
      "source": [
        "Створіть масив розміром 5x5, заповніть його випадковими дійсними числами в діапазоні від -1 до 1 та виведіть його значення."
      ]
    },
    {
      "cell_type": "code",
      "execution_count": 6,
      "id": "1e74d7b8-92a4-4178-b9e4-36b82074e330",
      "metadata": {
        "colab": {
          "base_uri": "https://localhost:8080/"
        },
        "id": "1e74d7b8-92a4-4178-b9e4-36b82074e330",
        "outputId": "78fd0b95-7015-42dc-8a98-3d09b315002a"
      },
      "outputs": [
        {
          "output_type": "execute_result",
          "data": {
            "text/plain": [
              "array([[-0.53850328,  0.4903643 , -0.67922073, -0.23741909,  0.10493187],\n",
              "       [-0.05328483,  0.21638016,  0.70970891,  0.26887066,  0.24724465],\n",
              "       [ 0.83098277,  0.06899512, -0.40449962, -0.26135494, -0.21323644],\n",
              "       [ 0.34440088, -0.81265975, -0.16482608, -0.08297666, -0.28011327],\n",
              "       [ 0.35942483,  0.14343256, -0.0913175 ,  0.97866266,  0.92732847]])"
            ]
          },
          "metadata": {},
          "execution_count": 6
        }
      ],
      "source": [
        "np.random.uniform(-1, 1, (5, 5))"
      ]
    },
    {
      "cell_type": "markdown",
      "id": "45545996-60a4-409a-88a6-2c233aaa6dd7",
      "metadata": {
        "id": "45545996-60a4-409a-88a6-2c233aaa6dd7"
      },
      "source": [
        "Створіть масив розміром 3x3, заповніть його випадковими дійсними числами в діапазоні від 0 до 1 та виведіть його значення."
      ]
    },
    {
      "cell_type": "code",
      "execution_count": 7,
      "id": "e837c452-f0b9-4626-a5c7-a06f365069a6",
      "metadata": {
        "colab": {
          "base_uri": "https://localhost:8080/"
        },
        "id": "e837c452-f0b9-4626-a5c7-a06f365069a6",
        "outputId": "ee457116-0e2d-4cfc-a93d-831ac6877c27"
      },
      "outputs": [
        {
          "output_type": "execute_result",
          "data": {
            "text/plain": [
              "array([[0.06533543, 0.75480308, 0.70024293],\n",
              "       [0.72884539, 0.72051318, 0.94617413],\n",
              "       [0.57225656, 0.02423499, 0.58895495]])"
            ]
          },
          "metadata": {},
          "execution_count": 7
        }
      ],
      "source": [
        "np.random.uniform(0,1,(3,3))"
      ]
    },
    {
      "cell_type": "markdown",
      "id": "45bf641b-e3f1-44cc-b54e-aac39a395e55",
      "metadata": {
        "id": "45bf641b-e3f1-44cc-b54e-aac39a395e55"
      },
      "source": [
        "Створіть два одновимірних масиви розміром 6, заповніть їх випадковими цілими числами в діапазоні від 1 до 20 та виконайте на них поелементні операції додавання, віднімання та множення"
      ]
    },
    {
      "cell_type": "code",
      "execution_count": 8,
      "id": "d680d814-165f-4ea6-a08e-38d0713d9772",
      "metadata": {
        "id": "d680d814-165f-4ea6-a08e-38d0713d9772"
      },
      "outputs": [],
      "source": [
        "vector_1 = np.random.randint(1, 21, 6)"
      ]
    },
    {
      "cell_type": "code",
      "execution_count": 9,
      "id": "e908aebf-f559-40fe-b9a2-01236fe4b582",
      "metadata": {
        "id": "e908aebf-f559-40fe-b9a2-01236fe4b582"
      },
      "outputs": [],
      "source": [
        "vector_2 =np.random.randint(1, 21, 6)"
      ]
    },
    {
      "cell_type": "code",
      "execution_count": 10,
      "id": "1a9d2a09-c985-4a9f-bf00-bedc986a8075",
      "metadata": {
        "colab": {
          "base_uri": "https://localhost:8080/"
        },
        "id": "1a9d2a09-c985-4a9f-bf00-bedc986a8075",
        "outputId": "000cd385-983f-4742-e1c8-1892a7aebf27"
      },
      "outputs": [
        {
          "output_type": "execute_result",
          "data": {
            "text/plain": [
              "array([27,  8,  9, 21, 21, 12])"
            ]
          },
          "metadata": {},
          "execution_count": 10
        }
      ],
      "source": [
        "vector_1 + vector_2"
      ]
    },
    {
      "cell_type": "code",
      "execution_count": 11,
      "id": "7288c61c-6db2-45f6-ac20-2c5b17cb8060",
      "metadata": {
        "colab": {
          "base_uri": "https://localhost:8080/"
        },
        "id": "7288c61c-6db2-45f6-ac20-2c5b17cb8060",
        "outputId": "3d771c31-2b52-42ce-cf38-7dcc6dc1ddaa"
      },
      "outputs": [
        {
          "output_type": "execute_result",
          "data": {
            "text/plain": [
              "array([ -5,  -2,   5, -13,  -9,  -6])"
            ]
          },
          "metadata": {},
          "execution_count": 11
        }
      ],
      "source": [
        "vector_1 - vector_2"
      ]
    },
    {
      "cell_type": "code",
      "execution_count": 12,
      "id": "bfbe6dc2-b550-492a-882c-0edf7ec6e722",
      "metadata": {
        "colab": {
          "base_uri": "https://localhost:8080/"
        },
        "id": "bfbe6dc2-b550-492a-882c-0edf7ec6e722",
        "outputId": "d28e42c4-dea1-435f-b0f9-aa2745226602"
      },
      "outputs": [
        {
          "output_type": "execute_result",
          "data": {
            "text/plain": [
              "array([176,  15,  14,  68,  90,  27])"
            ]
          },
          "metadata": {},
          "execution_count": 12
        }
      ],
      "source": [
        "vector_1 * vector_2"
      ]
    },
    {
      "cell_type": "markdown",
      "id": "45b1a4f8-d1c9-4f00-9214-847cfbf712a4",
      "metadata": {
        "id": "45b1a4f8-d1c9-4f00-9214-847cfbf712a4"
      },
      "source": [
        "Створіть дві матриці розміром 3x2 та 2x4, заповніть їх випадковими цілими числами в діапазоні від 1 до 5 та перемножте їх між собою."
      ]
    },
    {
      "cell_type": "code",
      "execution_count": 13,
      "id": "0a345e14-56e4-4986-9b80-fee8d1504104",
      "metadata": {
        "id": "0a345e14-56e4-4986-9b80-fee8d1504104"
      },
      "outputs": [],
      "source": [
        "matr_1 = np.random.randint(1,6,(3,2))"
      ]
    },
    {
      "cell_type": "code",
      "execution_count": 14,
      "id": "4d9ae068-8c78-4db3-b9c9-f63a353d2197",
      "metadata": {
        "id": "4d9ae068-8c78-4db3-b9c9-f63a353d2197"
      },
      "outputs": [],
      "source": [
        "matr_2 = np.random.randint(1,6,(2,4))"
      ]
    },
    {
      "cell_type": "code",
      "execution_count": 15,
      "id": "3d76a490-1423-4561-9c52-8c9dddca4e9c",
      "metadata": {
        "colab": {
          "base_uri": "https://localhost:8080/"
        },
        "id": "3d76a490-1423-4561-9c52-8c9dddca4e9c",
        "outputId": "37118a3a-1523-4c99-9fa4-570cdb41a7fb"
      },
      "outputs": [
        {
          "output_type": "execute_result",
          "data": {
            "text/plain": [
              "array([[15,  4, 19,  4],\n",
              "       [35, 10, 45, 10],\n",
              "       [ 7,  2,  9,  2]])"
            ]
          },
          "metadata": {},
          "execution_count": 15
        }
      ],
      "source": [
        "np.dot(matr_1,matr_2)"
      ]
    },
    {
      "cell_type": "markdown",
      "id": "06b4011f-bc4f-4b32-a308-e4f88e4d2d59",
      "metadata": {
        "id": "06b4011f-bc4f-4b32-a308-e4f88e4d2d59"
      },
      "source": [
        "Створіть матрицю розміром 3x3, заповніть її випадковими дійсними числами в діапазоні від 0 до 1 та транспонуйте її."
      ]
    },
    {
      "cell_type": "code",
      "execution_count": 16,
      "id": "e81c27e2-dbba-4b7b-8d5c-59b348958ca0",
      "metadata": {
        "id": "e81c27e2-dbba-4b7b-8d5c-59b348958ca0"
      },
      "outputs": [],
      "source": [
        "transposed_matrix = np.random.uniform(0,1, (3,3))"
      ]
    },
    {
      "cell_type": "code",
      "execution_count": 17,
      "id": "df01cc26-6432-4acb-9d76-cd18bee645fe",
      "metadata": {
        "colab": {
          "base_uri": "https://localhost:8080/"
        },
        "id": "df01cc26-6432-4acb-9d76-cd18bee645fe",
        "outputId": "f07271b8-57fd-4fdf-cac5-9533aa9ad90b"
      },
      "outputs": [
        {
          "output_type": "execute_result",
          "data": {
            "text/plain": [
              "array([[0.1104079 , 0.16553385, 0.96099591],\n",
              "       [0.43803624, 0.567092  , 0.61386368],\n",
              "       [0.42121611, 0.92760514, 0.25536909]])"
            ]
          },
          "metadata": {},
          "execution_count": 17
        }
      ],
      "source": [
        "np.transpose(transposed_matrix)"
      ]
    },
    {
      "cell_type": "markdown",
      "id": "8ecb45b4-deda-4982-b946-a5ceb7c4ecdf",
      "metadata": {
        "id": "8ecb45b4-deda-4982-b946-a5ceb7c4ecdf"
      },
      "source": [
        "Створіть дві матриці розміром 3x3, заповніть їх випадковими цілими числами в діапазоні від 1 до 10 та знайдіть їхню різницю."
      ]
    },
    {
      "cell_type": "code",
      "execution_count": 18,
      "id": "ea5b616c-7de5-42ed-8d2e-defa268d00ce",
      "metadata": {
        "id": "ea5b616c-7de5-42ed-8d2e-defa268d00ce"
      },
      "outputs": [],
      "source": [
        "first_matrix = np.random.randint(1,11,(3,3))"
      ]
    },
    {
      "cell_type": "code",
      "execution_count": 19,
      "id": "b0465b18-4daa-4b5d-972a-4b85f1777f1a",
      "metadata": {
        "id": "b0465b18-4daa-4b5d-972a-4b85f1777f1a"
      },
      "outputs": [],
      "source": [
        "second_matrix = np.random.randint(1,11,(3,3))"
      ]
    },
    {
      "cell_type": "code",
      "execution_count": 20,
      "id": "3444dbf4-903a-48af-b583-2e502e28ce56",
      "metadata": {
        "colab": {
          "base_uri": "https://localhost:8080/"
        },
        "id": "3444dbf4-903a-48af-b583-2e502e28ce56",
        "outputId": "a2cb6210-3788-489d-96ad-2436125084e8"
      },
      "outputs": [
        {
          "output_type": "execute_result",
          "data": {
            "text/plain": [
              "array([[ 3,  1,  3],\n",
              "       [-4,  1,  1],\n",
              "       [-8,  0,  2]])"
            ]
          },
          "metadata": {},
          "execution_count": 20
        }
      ],
      "source": [
        "first_matrix - second_matrix"
      ]
    },
    {
      "cell_type": "markdown",
      "id": "c71c4d35-64db-4d03-8787-e4779a6eb801",
      "metadata": {
        "id": "c71c4d35-64db-4d03-8787-e4779a6eb801"
      },
      "source": [
        "Створіть дві матриці розміром 3x3, заповніть їх випадковими цілими числами в діапазоні від -5 до 5 та знайдіть їх добуток."
      ]
    },
    {
      "cell_type": "code",
      "execution_count": 21,
      "id": "015e54c8-3cc2-4299-a71c-ad59b08d0421",
      "metadata": {
        "colab": {
          "base_uri": "https://localhost:8080/"
        },
        "id": "015e54c8-3cc2-4299-a71c-ad59b08d0421",
        "outputId": "95761542-5f9d-48d4-f7a9-41e5b526072e"
      },
      "outputs": [
        {
          "output_type": "execute_result",
          "data": {
            "text/plain": [
              "array([[ 15, -10,  -8],\n",
              "       [ 12,  -6,  -8],\n",
              "       [  1,   3,   4]])"
            ]
          },
          "metadata": {},
          "execution_count": 21
        }
      ],
      "source": [
        "np.random.randint(-5,5, (3,3)) * np.random.randint(-5,5, (3,3))"
      ]
    },
    {
      "cell_type": "markdown",
      "id": "d6246d53-00b4-4cf8-bf41-d9630002d26c",
      "metadata": {
        "id": "d6246d53-00b4-4cf8-bf41-d9630002d26c"
      },
      "source": [
        "Створіть матрицю розміром 3x3, заповніть її випадковими дійсними числами в діапазоні від -1 до 1 та знайдіть вектор-стовпчик, що містить суму елементів кожного рядка матриці."
      ]
    },
    {
      "cell_type": "code",
      "execution_count": 22,
      "id": "508c6eeb-f84b-4773-a19c-6438214d5c28",
      "metadata": {
        "id": "508c6eeb-f84b-4773-a19c-6438214d5c28"
      },
      "outputs": [],
      "source": [
        "matrix = np.random.uniform(-1, 1, (3, 3))"
      ]
    },
    {
      "cell_type": "code",
      "execution_count": 23,
      "id": "fe7ac1f5-eca2-4284-b03c-6b399c5f6970",
      "metadata": {
        "colab": {
          "base_uri": "https://localhost:8080/"
        },
        "id": "fe7ac1f5-eca2-4284-b03c-6b399c5f6970",
        "outputId": "ddaad3f7-3710-4470-c94f-bc3a4fc9255d"
      },
      "outputs": [
        {
          "output_type": "execute_result",
          "data": {
            "text/plain": [
              "array([ 1.30172227,  2.36841653, -0.2160462 ])"
            ]
          },
          "metadata": {},
          "execution_count": 23
        }
      ],
      "source": [
        "np.sum(matrix, axis=1)"
      ]
    },
    {
      "cell_type": "markdown",
      "id": "9fb02f51-5ff9-4e5a-a2fa-717ecc8e2e7a",
      "metadata": {
        "id": "9fb02f51-5ff9-4e5a-a2fa-717ecc8e2e7a"
      },
      "source": [
        "# За допомогою метода  read_html  скачати дані з  таблиці \"Коефіцієнт народжуваності в регіонах України (1950—2014)\" за посиланням  "
      ]
    },
    {
      "cell_type": "code",
      "execution_count": 23,
      "id": "190ec100-4c6f-4579-8867-5c963d1a642d",
      "metadata": {
        "id": "190ec100-4c6f-4579-8867-5c963d1a642d"
      },
      "outputs": [],
      "source": []
    },
    {
      "cell_type": "code",
      "execution_count": 23,
      "id": "8b31b367-7a00-4b90-88d1-dba89948156b",
      "metadata": {
        "id": "8b31b367-7a00-4b90-88d1-dba89948156b"
      },
      "outputs": [],
      "source": []
    },
    {
      "cell_type": "markdown",
      "id": "35d35e7a-50ae-4a74-9113-abe128e460e4",
      "metadata": {
        "id": "35d35e7a-50ae-4a74-9113-abe128e460e4"
      },
      "source": [
        "# Відобразити перші 10 рядків таблиці за допомогою методу head"
      ]
    },
    {
      "cell_type": "code",
      "execution_count": 24,
      "id": "30488026-d8a3-4896-8d13-b25cee7f80b0",
      "metadata": {
        "id": "30488026-d8a3-4896-8d13-b25cee7f80b0"
      },
      "outputs": [],
      "source": [
        "df = pd.read_html('https://uk.wikipedia.org/wiki/%D0%9D%D0%B0%D1%80%D0%BE%D0%B4%D0%B6%D1%83%D0%B2%D0%B0%D0%BD%D1%96%D1%81%D1%82%D1%8C_%D0%B2_%D0%A3%D0%BA%D1%80%D0%B0%D1%97%D0%BD%D1%96')"
      ]
    },
    {
      "cell_type": "code",
      "execution_count": 25,
      "id": "7fc77cb6-9055-4b11-af1d-f1fa030d00ad",
      "metadata": {
        "id": "7fc77cb6-9055-4b11-af1d-f1fa030d00ad"
      },
      "outputs": [],
      "source": [
        "df = df[20]"
      ]
    },
    {
      "cell_type": "code",
      "execution_count": 26,
      "id": "e20747e5-3378-4716-93b3-db9e8a5cae71",
      "metadata": {
        "colab": {
          "base_uri": "https://localhost:8080/",
          "height": 363
        },
        "id": "e20747e5-3378-4716-93b3-db9e8a5cae71",
        "outputId": "b5038fd2-c7e8-441d-cb1b-bcdd06942c5e"
      },
      "outputs": [
        {
          "output_type": "execute_result",
          "data": {
            "text/plain": [
              "                      регіон   1950   1960   1970  1990  1992  1994  1996  \\\n",
              "0  Автономна Республіка Крим  230.0  206.0  160.0   130   109    93    80   \n",
              "1          Вінницька область  224.0  192.0  142.0   124   119   107   103   \n",
              "2          Волинська область  247.0  250.0  179.0   153   150   137   125   \n",
              "3   Дніпропетровська область  204.0  204.0  151.0   123   106    92    80   \n",
              "4           Донецька область  271.0  214.0  140.0   109    94    82    70   \n",
              "5        Житомирська область  261.0  223.0  159.0   129   128   118   108   \n",
              "6       Закарпатська область  314.0  273.0  207.0   168   161   138   128   \n",
              "7         Запорізька область  219.0  197.0  150.0   124   107    92    81   \n",
              "8  Івано-Франківська область  243.0  248.0  182.0   155   144   131   122   \n",
              "9           Київська область  204.0  189.0  156.0   123   111    99    92   \n",
              "\n",
              "   2000  2004  2008  2012   2014  \n",
              "0    73    90   119   126    NaN  \n",
              "1    84    90   108   112  109.0  \n",
              "2   112   119   148   148  141.0  \n",
              "3    71    89   110   112  111.0  \n",
              "4    61    76    98    98   82.0  \n",
              "5    89    98   113   122  120.0  \n",
              "6   115   124   147   151  146.0  \n",
              "7    71    85   103   106  106.0  \n",
              "8   103   107   123   124  122.0  \n",
              "9    73    90   117   122  121.0  "
            ],
            "text/html": [
              "\n",
              "  <div id=\"df-7bdf73b6-53d7-4fd5-8de8-cf838229a361\" class=\"colab-df-container\">\n",
              "    <div>\n",
              "<style scoped>\n",
              "    .dataframe tbody tr th:only-of-type {\n",
              "        vertical-align: middle;\n",
              "    }\n",
              "\n",
              "    .dataframe tbody tr th {\n",
              "        vertical-align: top;\n",
              "    }\n",
              "\n",
              "    .dataframe thead th {\n",
              "        text-align: right;\n",
              "    }\n",
              "</style>\n",
              "<table border=\"1\" class=\"dataframe\">\n",
              "  <thead>\n",
              "    <tr style=\"text-align: right;\">\n",
              "      <th></th>\n",
              "      <th>регіон</th>\n",
              "      <th>1950</th>\n",
              "      <th>1960</th>\n",
              "      <th>1970</th>\n",
              "      <th>1990</th>\n",
              "      <th>1992</th>\n",
              "      <th>1994</th>\n",
              "      <th>1996</th>\n",
              "      <th>2000</th>\n",
              "      <th>2004</th>\n",
              "      <th>2008</th>\n",
              "      <th>2012</th>\n",
              "      <th>2014</th>\n",
              "    </tr>\n",
              "  </thead>\n",
              "  <tbody>\n",
              "    <tr>\n",
              "      <th>0</th>\n",
              "      <td>Автономна Республіка Крим</td>\n",
              "      <td>230.0</td>\n",
              "      <td>206.0</td>\n",
              "      <td>160.0</td>\n",
              "      <td>130</td>\n",
              "      <td>109</td>\n",
              "      <td>93</td>\n",
              "      <td>80</td>\n",
              "      <td>73</td>\n",
              "      <td>90</td>\n",
              "      <td>119</td>\n",
              "      <td>126</td>\n",
              "      <td>NaN</td>\n",
              "    </tr>\n",
              "    <tr>\n",
              "      <th>1</th>\n",
              "      <td>Вінницька область</td>\n",
              "      <td>224.0</td>\n",
              "      <td>192.0</td>\n",
              "      <td>142.0</td>\n",
              "      <td>124</td>\n",
              "      <td>119</td>\n",
              "      <td>107</td>\n",
              "      <td>103</td>\n",
              "      <td>84</td>\n",
              "      <td>90</td>\n",
              "      <td>108</td>\n",
              "      <td>112</td>\n",
              "      <td>109.0</td>\n",
              "    </tr>\n",
              "    <tr>\n",
              "      <th>2</th>\n",
              "      <td>Волинська область</td>\n",
              "      <td>247.0</td>\n",
              "      <td>250.0</td>\n",
              "      <td>179.0</td>\n",
              "      <td>153</td>\n",
              "      <td>150</td>\n",
              "      <td>137</td>\n",
              "      <td>125</td>\n",
              "      <td>112</td>\n",
              "      <td>119</td>\n",
              "      <td>148</td>\n",
              "      <td>148</td>\n",
              "      <td>141.0</td>\n",
              "    </tr>\n",
              "    <tr>\n",
              "      <th>3</th>\n",
              "      <td>Дніпропетровська область</td>\n",
              "      <td>204.0</td>\n",
              "      <td>204.0</td>\n",
              "      <td>151.0</td>\n",
              "      <td>123</td>\n",
              "      <td>106</td>\n",
              "      <td>92</td>\n",
              "      <td>80</td>\n",
              "      <td>71</td>\n",
              "      <td>89</td>\n",
              "      <td>110</td>\n",
              "      <td>112</td>\n",
              "      <td>111.0</td>\n",
              "    </tr>\n",
              "    <tr>\n",
              "      <th>4</th>\n",
              "      <td>Донецька область</td>\n",
              "      <td>271.0</td>\n",
              "      <td>214.0</td>\n",
              "      <td>140.0</td>\n",
              "      <td>109</td>\n",
              "      <td>94</td>\n",
              "      <td>82</td>\n",
              "      <td>70</td>\n",
              "      <td>61</td>\n",
              "      <td>76</td>\n",
              "      <td>98</td>\n",
              "      <td>98</td>\n",
              "      <td>82.0</td>\n",
              "    </tr>\n",
              "    <tr>\n",
              "      <th>5</th>\n",
              "      <td>Житомирська область</td>\n",
              "      <td>261.0</td>\n",
              "      <td>223.0</td>\n",
              "      <td>159.0</td>\n",
              "      <td>129</td>\n",
              "      <td>128</td>\n",
              "      <td>118</td>\n",
              "      <td>108</td>\n",
              "      <td>89</td>\n",
              "      <td>98</td>\n",
              "      <td>113</td>\n",
              "      <td>122</td>\n",
              "      <td>120.0</td>\n",
              "    </tr>\n",
              "    <tr>\n",
              "      <th>6</th>\n",
              "      <td>Закарпатська область</td>\n",
              "      <td>314.0</td>\n",
              "      <td>273.0</td>\n",
              "      <td>207.0</td>\n",
              "      <td>168</td>\n",
              "      <td>161</td>\n",
              "      <td>138</td>\n",
              "      <td>128</td>\n",
              "      <td>115</td>\n",
              "      <td>124</td>\n",
              "      <td>147</td>\n",
              "      <td>151</td>\n",
              "      <td>146.0</td>\n",
              "    </tr>\n",
              "    <tr>\n",
              "      <th>7</th>\n",
              "      <td>Запорізька область</td>\n",
              "      <td>219.0</td>\n",
              "      <td>197.0</td>\n",
              "      <td>150.0</td>\n",
              "      <td>124</td>\n",
              "      <td>107</td>\n",
              "      <td>92</td>\n",
              "      <td>81</td>\n",
              "      <td>71</td>\n",
              "      <td>85</td>\n",
              "      <td>103</td>\n",
              "      <td>106</td>\n",
              "      <td>106.0</td>\n",
              "    </tr>\n",
              "    <tr>\n",
              "      <th>8</th>\n",
              "      <td>Івано-Франківська область</td>\n",
              "      <td>243.0</td>\n",
              "      <td>248.0</td>\n",
              "      <td>182.0</td>\n",
              "      <td>155</td>\n",
              "      <td>144</td>\n",
              "      <td>131</td>\n",
              "      <td>122</td>\n",
              "      <td>103</td>\n",
              "      <td>107</td>\n",
              "      <td>123</td>\n",
              "      <td>124</td>\n",
              "      <td>122.0</td>\n",
              "    </tr>\n",
              "    <tr>\n",
              "      <th>9</th>\n",
              "      <td>Київська область</td>\n",
              "      <td>204.0</td>\n",
              "      <td>189.0</td>\n",
              "      <td>156.0</td>\n",
              "      <td>123</td>\n",
              "      <td>111</td>\n",
              "      <td>99</td>\n",
              "      <td>92</td>\n",
              "      <td>73</td>\n",
              "      <td>90</td>\n",
              "      <td>117</td>\n",
              "      <td>122</td>\n",
              "      <td>121.0</td>\n",
              "    </tr>\n",
              "  </tbody>\n",
              "</table>\n",
              "</div>\n",
              "    <div class=\"colab-df-buttons\">\n",
              "\n",
              "  <div class=\"colab-df-container\">\n",
              "    <button class=\"colab-df-convert\" onclick=\"convertToInteractive('df-7bdf73b6-53d7-4fd5-8de8-cf838229a361')\"\n",
              "            title=\"Convert this dataframe to an interactive table.\"\n",
              "            style=\"display:none;\">\n",
              "\n",
              "  <svg xmlns=\"http://www.w3.org/2000/svg\" height=\"24px\" viewBox=\"0 -960 960 960\">\n",
              "    <path d=\"M120-120v-720h720v720H120Zm60-500h600v-160H180v160Zm220 220h160v-160H400v160Zm0 220h160v-160H400v160ZM180-400h160v-160H180v160Zm440 0h160v-160H620v160ZM180-180h160v-160H180v160Zm440 0h160v-160H620v160Z\"/>\n",
              "  </svg>\n",
              "    </button>\n",
              "\n",
              "  <style>\n",
              "    .colab-df-container {\n",
              "      display:flex;\n",
              "      gap: 12px;\n",
              "    }\n",
              "\n",
              "    .colab-df-convert {\n",
              "      background-color: #E8F0FE;\n",
              "      border: none;\n",
              "      border-radius: 50%;\n",
              "      cursor: pointer;\n",
              "      display: none;\n",
              "      fill: #1967D2;\n",
              "      height: 32px;\n",
              "      padding: 0 0 0 0;\n",
              "      width: 32px;\n",
              "    }\n",
              "\n",
              "    .colab-df-convert:hover {\n",
              "      background-color: #E2EBFA;\n",
              "      box-shadow: 0px 1px 2px rgba(60, 64, 67, 0.3), 0px 1px 3px 1px rgba(60, 64, 67, 0.15);\n",
              "      fill: #174EA6;\n",
              "    }\n",
              "\n",
              "    .colab-df-buttons div {\n",
              "      margin-bottom: 4px;\n",
              "    }\n",
              "\n",
              "    [theme=dark] .colab-df-convert {\n",
              "      background-color: #3B4455;\n",
              "      fill: #D2E3FC;\n",
              "    }\n",
              "\n",
              "    [theme=dark] .colab-df-convert:hover {\n",
              "      background-color: #434B5C;\n",
              "      box-shadow: 0px 1px 3px 1px rgba(0, 0, 0, 0.15);\n",
              "      filter: drop-shadow(0px 1px 2px rgba(0, 0, 0, 0.3));\n",
              "      fill: #FFFFFF;\n",
              "    }\n",
              "  </style>\n",
              "\n",
              "    <script>\n",
              "      const buttonEl =\n",
              "        document.querySelector('#df-7bdf73b6-53d7-4fd5-8de8-cf838229a361 button.colab-df-convert');\n",
              "      buttonEl.style.display =\n",
              "        google.colab.kernel.accessAllowed ? 'block' : 'none';\n",
              "\n",
              "      async function convertToInteractive(key) {\n",
              "        const element = document.querySelector('#df-7bdf73b6-53d7-4fd5-8de8-cf838229a361');\n",
              "        const dataTable =\n",
              "          await google.colab.kernel.invokeFunction('convertToInteractive',\n",
              "                                                    [key], {});\n",
              "        if (!dataTable) return;\n",
              "\n",
              "        const docLinkHtml = 'Like what you see? Visit the ' +\n",
              "          '<a target=\"_blank\" href=https://colab.research.google.com/notebooks/data_table.ipynb>data table notebook</a>'\n",
              "          + ' to learn more about interactive tables.';\n",
              "        element.innerHTML = '';\n",
              "        dataTable['output_type'] = 'display_data';\n",
              "        await google.colab.output.renderOutput(dataTable, element);\n",
              "        const docLink = document.createElement('div');\n",
              "        docLink.innerHTML = docLinkHtml;\n",
              "        element.appendChild(docLink);\n",
              "      }\n",
              "    </script>\n",
              "  </div>\n",
              "\n",
              "\n",
              "<div id=\"df-3cc71275-a5d4-43e7-9291-8d08271ed06d\">\n",
              "  <button class=\"colab-df-quickchart\" onclick=\"quickchart('df-3cc71275-a5d4-43e7-9291-8d08271ed06d')\"\n",
              "            title=\"Suggest charts.\"\n",
              "            style=\"display:none;\">\n",
              "\n",
              "<svg xmlns=\"http://www.w3.org/2000/svg\" height=\"24px\"viewBox=\"0 0 24 24\"\n",
              "     width=\"24px\">\n",
              "    <g>\n",
              "        <path d=\"M19 3H5c-1.1 0-2 .9-2 2v14c0 1.1.9 2 2 2h14c1.1 0 2-.9 2-2V5c0-1.1-.9-2-2-2zM9 17H7v-7h2v7zm4 0h-2V7h2v10zm4 0h-2v-4h2v4z\"/>\n",
              "    </g>\n",
              "</svg>\n",
              "  </button>\n",
              "\n",
              "<style>\n",
              "  .colab-df-quickchart {\n",
              "      --bg-color: #E8F0FE;\n",
              "      --fill-color: #1967D2;\n",
              "      --hover-bg-color: #E2EBFA;\n",
              "      --hover-fill-color: #174EA6;\n",
              "      --disabled-fill-color: #AAA;\n",
              "      --disabled-bg-color: #DDD;\n",
              "  }\n",
              "\n",
              "  [theme=dark] .colab-df-quickchart {\n",
              "      --bg-color: #3B4455;\n",
              "      --fill-color: #D2E3FC;\n",
              "      --hover-bg-color: #434B5C;\n",
              "      --hover-fill-color: #FFFFFF;\n",
              "      --disabled-bg-color: #3B4455;\n",
              "      --disabled-fill-color: #666;\n",
              "  }\n",
              "\n",
              "  .colab-df-quickchart {\n",
              "    background-color: var(--bg-color);\n",
              "    border: none;\n",
              "    border-radius: 50%;\n",
              "    cursor: pointer;\n",
              "    display: none;\n",
              "    fill: var(--fill-color);\n",
              "    height: 32px;\n",
              "    padding: 0;\n",
              "    width: 32px;\n",
              "  }\n",
              "\n",
              "  .colab-df-quickchart:hover {\n",
              "    background-color: var(--hover-bg-color);\n",
              "    box-shadow: 0 1px 2px rgba(60, 64, 67, 0.3), 0 1px 3px 1px rgba(60, 64, 67, 0.15);\n",
              "    fill: var(--button-hover-fill-color);\n",
              "  }\n",
              "\n",
              "  .colab-df-quickchart-complete:disabled,\n",
              "  .colab-df-quickchart-complete:disabled:hover {\n",
              "    background-color: var(--disabled-bg-color);\n",
              "    fill: var(--disabled-fill-color);\n",
              "    box-shadow: none;\n",
              "  }\n",
              "\n",
              "  .colab-df-spinner {\n",
              "    border: 2px solid var(--fill-color);\n",
              "    border-color: transparent;\n",
              "    border-bottom-color: var(--fill-color);\n",
              "    animation:\n",
              "      spin 1s steps(1) infinite;\n",
              "  }\n",
              "\n",
              "  @keyframes spin {\n",
              "    0% {\n",
              "      border-color: transparent;\n",
              "      border-bottom-color: var(--fill-color);\n",
              "      border-left-color: var(--fill-color);\n",
              "    }\n",
              "    20% {\n",
              "      border-color: transparent;\n",
              "      border-left-color: var(--fill-color);\n",
              "      border-top-color: var(--fill-color);\n",
              "    }\n",
              "    30% {\n",
              "      border-color: transparent;\n",
              "      border-left-color: var(--fill-color);\n",
              "      border-top-color: var(--fill-color);\n",
              "      border-right-color: var(--fill-color);\n",
              "    }\n",
              "    40% {\n",
              "      border-color: transparent;\n",
              "      border-right-color: var(--fill-color);\n",
              "      border-top-color: var(--fill-color);\n",
              "    }\n",
              "    60% {\n",
              "      border-color: transparent;\n",
              "      border-right-color: var(--fill-color);\n",
              "    }\n",
              "    80% {\n",
              "      border-color: transparent;\n",
              "      border-right-color: var(--fill-color);\n",
              "      border-bottom-color: var(--fill-color);\n",
              "    }\n",
              "    90% {\n",
              "      border-color: transparent;\n",
              "      border-bottom-color: var(--fill-color);\n",
              "    }\n",
              "  }\n",
              "</style>\n",
              "\n",
              "  <script>\n",
              "    async function quickchart(key) {\n",
              "      const quickchartButtonEl =\n",
              "        document.querySelector('#' + key + ' button');\n",
              "      quickchartButtonEl.disabled = true;  // To prevent multiple clicks.\n",
              "      quickchartButtonEl.classList.add('colab-df-spinner');\n",
              "      try {\n",
              "        const charts = await google.colab.kernel.invokeFunction(\n",
              "            'suggestCharts', [key], {});\n",
              "      } catch (error) {\n",
              "        console.error('Error during call to suggestCharts:', error);\n",
              "      }\n",
              "      quickchartButtonEl.classList.remove('colab-df-spinner');\n",
              "      quickchartButtonEl.classList.add('colab-df-quickchart-complete');\n",
              "    }\n",
              "    (() => {\n",
              "      let quickchartButtonEl =\n",
              "        document.querySelector('#df-3cc71275-a5d4-43e7-9291-8d08271ed06d button');\n",
              "      quickchartButtonEl.style.display =\n",
              "        google.colab.kernel.accessAllowed ? 'block' : 'none';\n",
              "    })();\n",
              "  </script>\n",
              "</div>\n",
              "    </div>\n",
              "  </div>\n"
            ]
          },
          "metadata": {},
          "execution_count": 26
        }
      ],
      "source": [
        "df.head(10)"
      ]
    },
    {
      "cell_type": "markdown",
      "id": "b8a0f0c8-49dd-4f8e-8c4f-7c2a36224f11",
      "metadata": {
        "id": "b8a0f0c8-49dd-4f8e-8c4f-7c2a36224f11"
      },
      "source": [
        "# Визначити кількість рядків і стовпців в датафрейме (метод shape)"
      ]
    },
    {
      "cell_type": "code",
      "execution_count": 27,
      "id": "a5ea2a1c-2356-4b2a-97e7-0745b0a78445",
      "metadata": {
        "colab": {
          "base_uri": "https://localhost:8080/"
        },
        "id": "a5ea2a1c-2356-4b2a-97e7-0745b0a78445",
        "outputId": "fcd13ea7-2e22-4d4d-aa81-17a283455d50"
      },
      "outputs": [
        {
          "output_type": "execute_result",
          "data": {
            "text/plain": [
              "(28, 13)"
            ]
          },
          "metadata": {},
          "execution_count": 27
        }
      ],
      "source": [
        "df.shape"
      ]
    },
    {
      "cell_type": "code",
      "execution_count": 28,
      "id": "226dbb9c-8030-40e0-9f4f-8dd096fcd21c",
      "metadata": {
        "colab": {
          "base_uri": "https://localhost:8080/"
        },
        "id": "226dbb9c-8030-40e0-9f4f-8dd096fcd21c",
        "outputId": "7c5f026c-40ba-4317-ec3a-4e7c7c327d1d"
      },
      "outputs": [
        {
          "output_type": "execute_result",
          "data": {
            "text/plain": [
              "регіон     object\n",
              "1950      float64\n",
              "1960      float64\n",
              "1970      float64\n",
              "1990        int64\n",
              "1992        int64\n",
              "1994        int64\n",
              "1996        int64\n",
              "2000        int64\n",
              "2004        int64\n",
              "2008        int64\n",
              "2012        int64\n",
              "2014      float64\n",
              "dtype: object"
            ]
          },
          "metadata": {},
          "execution_count": 28
        }
      ],
      "source": [
        "df.dtypes"
      ]
    },
    {
      "cell_type": "markdown",
      "id": "0aeb16c8-fd72-41c3-b601-d2008cef2893",
      "metadata": {
        "id": "0aeb16c8-fd72-41c3-b601-d2008cef2893"
      },
      "source": [
        "# Замініть значення \"—\" в таблиці значеннями NaN"
      ]
    },
    {
      "cell_type": "code",
      "execution_count": 29,
      "id": "2f33ef42-b09a-4beb-8e18-1b6804b4eee6",
      "metadata": {
        "id": "2f33ef42-b09a-4beb-8e18-1b6804b4eee6"
      },
      "outputs": [],
      "source": [
        "# ми можемо побачити, що NaN розставлені автоматично замість -"
      ]
    },
    {
      "cell_type": "code",
      "execution_count": 30,
      "id": "a827326b-5a3b-4f3c-962e-fd726f7513ab",
      "metadata": {
        "colab": {
          "base_uri": "https://localhost:8080/",
          "height": 278
        },
        "id": "a827326b-5a3b-4f3c-962e-fd726f7513ab",
        "outputId": "1e1560d1-f844-4309-f7b3-6529a5b5e44c"
      },
      "outputs": [
        {
          "output_type": "stream",
          "name": "stderr",
          "text": [
            "<ipython-input-30-9575297a5e6f>:1: DeprecationWarning: `np.float` is a deprecated alias for the builtin `float`. To silence this warning, use `float` by itself. Doing this will not modify any behavior and is safe. If you specifically wanted the numpy scalar type, use `np.float64` here.\n",
            "Deprecated in NumPy 1.20; for more details and guidance: https://numpy.org/devdocs/release/1.20.0-notes.html#deprecations\n",
            "  df.astype({'1950':np.float}).head()\n"
          ]
        },
        {
          "output_type": "execute_result",
          "data": {
            "text/plain": [
              "                      регіон   1950   1960   1970  1990  1992  1994  1996  \\\n",
              "0  Автономна Республіка Крим  230.0  206.0  160.0   130   109    93    80   \n",
              "1          Вінницька область  224.0  192.0  142.0   124   119   107   103   \n",
              "2          Волинська область  247.0  250.0  179.0   153   150   137   125   \n",
              "3   Дніпропетровська область  204.0  204.0  151.0   123   106    92    80   \n",
              "4           Донецька область  271.0  214.0  140.0   109    94    82    70   \n",
              "\n",
              "   2000  2004  2008  2012   2014  \n",
              "0    73    90   119   126    NaN  \n",
              "1    84    90   108   112  109.0  \n",
              "2   112   119   148   148  141.0  \n",
              "3    71    89   110   112  111.0  \n",
              "4    61    76    98    98   82.0  "
            ],
            "text/html": [
              "\n",
              "  <div id=\"df-f024dd84-c5ec-420b-b038-9a38d96a4e9e\" class=\"colab-df-container\">\n",
              "    <div>\n",
              "<style scoped>\n",
              "    .dataframe tbody tr th:only-of-type {\n",
              "        vertical-align: middle;\n",
              "    }\n",
              "\n",
              "    .dataframe tbody tr th {\n",
              "        vertical-align: top;\n",
              "    }\n",
              "\n",
              "    .dataframe thead th {\n",
              "        text-align: right;\n",
              "    }\n",
              "</style>\n",
              "<table border=\"1\" class=\"dataframe\">\n",
              "  <thead>\n",
              "    <tr style=\"text-align: right;\">\n",
              "      <th></th>\n",
              "      <th>регіон</th>\n",
              "      <th>1950</th>\n",
              "      <th>1960</th>\n",
              "      <th>1970</th>\n",
              "      <th>1990</th>\n",
              "      <th>1992</th>\n",
              "      <th>1994</th>\n",
              "      <th>1996</th>\n",
              "      <th>2000</th>\n",
              "      <th>2004</th>\n",
              "      <th>2008</th>\n",
              "      <th>2012</th>\n",
              "      <th>2014</th>\n",
              "    </tr>\n",
              "  </thead>\n",
              "  <tbody>\n",
              "    <tr>\n",
              "      <th>0</th>\n",
              "      <td>Автономна Республіка Крим</td>\n",
              "      <td>230.0</td>\n",
              "      <td>206.0</td>\n",
              "      <td>160.0</td>\n",
              "      <td>130</td>\n",
              "      <td>109</td>\n",
              "      <td>93</td>\n",
              "      <td>80</td>\n",
              "      <td>73</td>\n",
              "      <td>90</td>\n",
              "      <td>119</td>\n",
              "      <td>126</td>\n",
              "      <td>NaN</td>\n",
              "    </tr>\n",
              "    <tr>\n",
              "      <th>1</th>\n",
              "      <td>Вінницька область</td>\n",
              "      <td>224.0</td>\n",
              "      <td>192.0</td>\n",
              "      <td>142.0</td>\n",
              "      <td>124</td>\n",
              "      <td>119</td>\n",
              "      <td>107</td>\n",
              "      <td>103</td>\n",
              "      <td>84</td>\n",
              "      <td>90</td>\n",
              "      <td>108</td>\n",
              "      <td>112</td>\n",
              "      <td>109.0</td>\n",
              "    </tr>\n",
              "    <tr>\n",
              "      <th>2</th>\n",
              "      <td>Волинська область</td>\n",
              "      <td>247.0</td>\n",
              "      <td>250.0</td>\n",
              "      <td>179.0</td>\n",
              "      <td>153</td>\n",
              "      <td>150</td>\n",
              "      <td>137</td>\n",
              "      <td>125</td>\n",
              "      <td>112</td>\n",
              "      <td>119</td>\n",
              "      <td>148</td>\n",
              "      <td>148</td>\n",
              "      <td>141.0</td>\n",
              "    </tr>\n",
              "    <tr>\n",
              "      <th>3</th>\n",
              "      <td>Дніпропетровська область</td>\n",
              "      <td>204.0</td>\n",
              "      <td>204.0</td>\n",
              "      <td>151.0</td>\n",
              "      <td>123</td>\n",
              "      <td>106</td>\n",
              "      <td>92</td>\n",
              "      <td>80</td>\n",
              "      <td>71</td>\n",
              "      <td>89</td>\n",
              "      <td>110</td>\n",
              "      <td>112</td>\n",
              "      <td>111.0</td>\n",
              "    </tr>\n",
              "    <tr>\n",
              "      <th>4</th>\n",
              "      <td>Донецька область</td>\n",
              "      <td>271.0</td>\n",
              "      <td>214.0</td>\n",
              "      <td>140.0</td>\n",
              "      <td>109</td>\n",
              "      <td>94</td>\n",
              "      <td>82</td>\n",
              "      <td>70</td>\n",
              "      <td>61</td>\n",
              "      <td>76</td>\n",
              "      <td>98</td>\n",
              "      <td>98</td>\n",
              "      <td>82.0</td>\n",
              "    </tr>\n",
              "  </tbody>\n",
              "</table>\n",
              "</div>\n",
              "    <div class=\"colab-df-buttons\">\n",
              "\n",
              "  <div class=\"colab-df-container\">\n",
              "    <button class=\"colab-df-convert\" onclick=\"convertToInteractive('df-f024dd84-c5ec-420b-b038-9a38d96a4e9e')\"\n",
              "            title=\"Convert this dataframe to an interactive table.\"\n",
              "            style=\"display:none;\">\n",
              "\n",
              "  <svg xmlns=\"http://www.w3.org/2000/svg\" height=\"24px\" viewBox=\"0 -960 960 960\">\n",
              "    <path d=\"M120-120v-720h720v720H120Zm60-500h600v-160H180v160Zm220 220h160v-160H400v160Zm0 220h160v-160H400v160ZM180-400h160v-160H180v160Zm440 0h160v-160H620v160ZM180-180h160v-160H180v160Zm440 0h160v-160H620v160Z\"/>\n",
              "  </svg>\n",
              "    </button>\n",
              "\n",
              "  <style>\n",
              "    .colab-df-container {\n",
              "      display:flex;\n",
              "      gap: 12px;\n",
              "    }\n",
              "\n",
              "    .colab-df-convert {\n",
              "      background-color: #E8F0FE;\n",
              "      border: none;\n",
              "      border-radius: 50%;\n",
              "      cursor: pointer;\n",
              "      display: none;\n",
              "      fill: #1967D2;\n",
              "      height: 32px;\n",
              "      padding: 0 0 0 0;\n",
              "      width: 32px;\n",
              "    }\n",
              "\n",
              "    .colab-df-convert:hover {\n",
              "      background-color: #E2EBFA;\n",
              "      box-shadow: 0px 1px 2px rgba(60, 64, 67, 0.3), 0px 1px 3px 1px rgba(60, 64, 67, 0.15);\n",
              "      fill: #174EA6;\n",
              "    }\n",
              "\n",
              "    .colab-df-buttons div {\n",
              "      margin-bottom: 4px;\n",
              "    }\n",
              "\n",
              "    [theme=dark] .colab-df-convert {\n",
              "      background-color: #3B4455;\n",
              "      fill: #D2E3FC;\n",
              "    }\n",
              "\n",
              "    [theme=dark] .colab-df-convert:hover {\n",
              "      background-color: #434B5C;\n",
              "      box-shadow: 0px 1px 3px 1px rgba(0, 0, 0, 0.15);\n",
              "      filter: drop-shadow(0px 1px 2px rgba(0, 0, 0, 0.3));\n",
              "      fill: #FFFFFF;\n",
              "    }\n",
              "  </style>\n",
              "\n",
              "    <script>\n",
              "      const buttonEl =\n",
              "        document.querySelector('#df-f024dd84-c5ec-420b-b038-9a38d96a4e9e button.colab-df-convert');\n",
              "      buttonEl.style.display =\n",
              "        google.colab.kernel.accessAllowed ? 'block' : 'none';\n",
              "\n",
              "      async function convertToInteractive(key) {\n",
              "        const element = document.querySelector('#df-f024dd84-c5ec-420b-b038-9a38d96a4e9e');\n",
              "        const dataTable =\n",
              "          await google.colab.kernel.invokeFunction('convertToInteractive',\n",
              "                                                    [key], {});\n",
              "        if (!dataTable) return;\n",
              "\n",
              "        const docLinkHtml = 'Like what you see? Visit the ' +\n",
              "          '<a target=\"_blank\" href=https://colab.research.google.com/notebooks/data_table.ipynb>data table notebook</a>'\n",
              "          + ' to learn more about interactive tables.';\n",
              "        element.innerHTML = '';\n",
              "        dataTable['output_type'] = 'display_data';\n",
              "        await google.colab.output.renderOutput(dataTable, element);\n",
              "        const docLink = document.createElement('div');\n",
              "        docLink.innerHTML = docLinkHtml;\n",
              "        element.appendChild(docLink);\n",
              "      }\n",
              "    </script>\n",
              "  </div>\n",
              "\n",
              "\n",
              "<div id=\"df-81c4e2bf-ef5e-4397-b754-f535721e2942\">\n",
              "  <button class=\"colab-df-quickchart\" onclick=\"quickchart('df-81c4e2bf-ef5e-4397-b754-f535721e2942')\"\n",
              "            title=\"Suggest charts.\"\n",
              "            style=\"display:none;\">\n",
              "\n",
              "<svg xmlns=\"http://www.w3.org/2000/svg\" height=\"24px\"viewBox=\"0 0 24 24\"\n",
              "     width=\"24px\">\n",
              "    <g>\n",
              "        <path d=\"M19 3H5c-1.1 0-2 .9-2 2v14c0 1.1.9 2 2 2h14c1.1 0 2-.9 2-2V5c0-1.1-.9-2-2-2zM9 17H7v-7h2v7zm4 0h-2V7h2v10zm4 0h-2v-4h2v4z\"/>\n",
              "    </g>\n",
              "</svg>\n",
              "  </button>\n",
              "\n",
              "<style>\n",
              "  .colab-df-quickchart {\n",
              "      --bg-color: #E8F0FE;\n",
              "      --fill-color: #1967D2;\n",
              "      --hover-bg-color: #E2EBFA;\n",
              "      --hover-fill-color: #174EA6;\n",
              "      --disabled-fill-color: #AAA;\n",
              "      --disabled-bg-color: #DDD;\n",
              "  }\n",
              "\n",
              "  [theme=dark] .colab-df-quickchart {\n",
              "      --bg-color: #3B4455;\n",
              "      --fill-color: #D2E3FC;\n",
              "      --hover-bg-color: #434B5C;\n",
              "      --hover-fill-color: #FFFFFF;\n",
              "      --disabled-bg-color: #3B4455;\n",
              "      --disabled-fill-color: #666;\n",
              "  }\n",
              "\n",
              "  .colab-df-quickchart {\n",
              "    background-color: var(--bg-color);\n",
              "    border: none;\n",
              "    border-radius: 50%;\n",
              "    cursor: pointer;\n",
              "    display: none;\n",
              "    fill: var(--fill-color);\n",
              "    height: 32px;\n",
              "    padding: 0;\n",
              "    width: 32px;\n",
              "  }\n",
              "\n",
              "  .colab-df-quickchart:hover {\n",
              "    background-color: var(--hover-bg-color);\n",
              "    box-shadow: 0 1px 2px rgba(60, 64, 67, 0.3), 0 1px 3px 1px rgba(60, 64, 67, 0.15);\n",
              "    fill: var(--button-hover-fill-color);\n",
              "  }\n",
              "\n",
              "  .colab-df-quickchart-complete:disabled,\n",
              "  .colab-df-quickchart-complete:disabled:hover {\n",
              "    background-color: var(--disabled-bg-color);\n",
              "    fill: var(--disabled-fill-color);\n",
              "    box-shadow: none;\n",
              "  }\n",
              "\n",
              "  .colab-df-spinner {\n",
              "    border: 2px solid var(--fill-color);\n",
              "    border-color: transparent;\n",
              "    border-bottom-color: var(--fill-color);\n",
              "    animation:\n",
              "      spin 1s steps(1) infinite;\n",
              "  }\n",
              "\n",
              "  @keyframes spin {\n",
              "    0% {\n",
              "      border-color: transparent;\n",
              "      border-bottom-color: var(--fill-color);\n",
              "      border-left-color: var(--fill-color);\n",
              "    }\n",
              "    20% {\n",
              "      border-color: transparent;\n",
              "      border-left-color: var(--fill-color);\n",
              "      border-top-color: var(--fill-color);\n",
              "    }\n",
              "    30% {\n",
              "      border-color: transparent;\n",
              "      border-left-color: var(--fill-color);\n",
              "      border-top-color: var(--fill-color);\n",
              "      border-right-color: var(--fill-color);\n",
              "    }\n",
              "    40% {\n",
              "      border-color: transparent;\n",
              "      border-right-color: var(--fill-color);\n",
              "      border-top-color: var(--fill-color);\n",
              "    }\n",
              "    60% {\n",
              "      border-color: transparent;\n",
              "      border-right-color: var(--fill-color);\n",
              "    }\n",
              "    80% {\n",
              "      border-color: transparent;\n",
              "      border-right-color: var(--fill-color);\n",
              "      border-bottom-color: var(--fill-color);\n",
              "    }\n",
              "    90% {\n",
              "      border-color: transparent;\n",
              "      border-bottom-color: var(--fill-color);\n",
              "    }\n",
              "  }\n",
              "</style>\n",
              "\n",
              "  <script>\n",
              "    async function quickchart(key) {\n",
              "      const quickchartButtonEl =\n",
              "        document.querySelector('#' + key + ' button');\n",
              "      quickchartButtonEl.disabled = true;  // To prevent multiple clicks.\n",
              "      quickchartButtonEl.classList.add('colab-df-spinner');\n",
              "      try {\n",
              "        const charts = await google.colab.kernel.invokeFunction(\n",
              "            'suggestCharts', [key], {});\n",
              "      } catch (error) {\n",
              "        console.error('Error during call to suggestCharts:', error);\n",
              "      }\n",
              "      quickchartButtonEl.classList.remove('colab-df-spinner');\n",
              "      quickchartButtonEl.classList.add('colab-df-quickchart-complete');\n",
              "    }\n",
              "    (() => {\n",
              "      let quickchartButtonEl =\n",
              "        document.querySelector('#df-81c4e2bf-ef5e-4397-b754-f535721e2942 button');\n",
              "      quickchartButtonEl.style.display =\n",
              "        google.colab.kernel.accessAllowed ? 'block' : 'none';\n",
              "    })();\n",
              "  </script>\n",
              "</div>\n",
              "    </div>\n",
              "  </div>\n"
            ]
          },
          "metadata": {},
          "execution_count": 30
        }
      ],
      "source": [
        "df.astype({'1950':np.float}).head()"
      ]
    },
    {
      "cell_type": "code",
      "execution_count": 31,
      "id": "17ae1eba-23ea-475a-a251-8b11595f0671",
      "metadata": {
        "colab": {
          "base_uri": "https://localhost:8080/",
          "height": 245
        },
        "id": "17ae1eba-23ea-475a-a251-8b11595f0671",
        "outputId": "9530b343-4775-4519-8e2c-841c17ff938b"
      },
      "outputs": [
        {
          "output_type": "error",
          "ename": "SyntaxError",
          "evalue": "ignored",
          "traceback": [
            "\u001b[0;31m---------------------------------------------------------------------------\u001b[0m",
            "\u001b[0;31mSyntaxError\u001b[0m                               Traceback (most recent call last)",
            "\u001b[0;32m/usr/local/lib/python3.10/dist-packages/IPython/core/compilerop.py\u001b[0m in \u001b[0;36mast_parse\u001b[0;34m(self, source, filename, symbol)\u001b[0m\n\u001b[1;32m     99\u001b[0m         \u001b[0mArguments\u001b[0m \u001b[0mare\u001b[0m \u001b[0mexactly\u001b[0m \u001b[0mthe\u001b[0m \u001b[0msame\u001b[0m \u001b[0;32mas\u001b[0m \u001b[0mast\u001b[0m\u001b[0;34m.\u001b[0m\u001b[0mparse\u001b[0m \u001b[0;34m(\u001b[0m\u001b[0;32min\u001b[0m \u001b[0mthe\u001b[0m \u001b[0mstandard\u001b[0m \u001b[0mlibrary\u001b[0m\u001b[0;34m)\u001b[0m\u001b[0;34m,\u001b[0m\u001b[0;34m\u001b[0m\u001b[0;34m\u001b[0m\u001b[0m\n\u001b[1;32m    100\u001b[0m         and are passed to the built-in compile function.\"\"\"\n\u001b[0;32m--> 101\u001b[0;31m         \u001b[0;32mreturn\u001b[0m \u001b[0mcompile\u001b[0m\u001b[0;34m(\u001b[0m\u001b[0msource\u001b[0m\u001b[0;34m,\u001b[0m \u001b[0mfilename\u001b[0m\u001b[0;34m,\u001b[0m \u001b[0msymbol\u001b[0m\u001b[0;34m,\u001b[0m \u001b[0mself\u001b[0m\u001b[0;34m.\u001b[0m\u001b[0mflags\u001b[0m \u001b[0;34m|\u001b[0m \u001b[0mPyCF_ONLY_AST\u001b[0m\u001b[0;34m,\u001b[0m \u001b[0;36m1\u001b[0m\u001b[0;34m)\u001b[0m\u001b[0;34m\u001b[0m\u001b[0;34m\u001b[0m\u001b[0m\n\u001b[0m\u001b[1;32m    102\u001b[0m \u001b[0;34m\u001b[0m\u001b[0m\n\u001b[1;32m    103\u001b[0m     \u001b[0;32mdef\u001b[0m \u001b[0mreset_compiler_flags\u001b[0m\u001b[0;34m(\u001b[0m\u001b[0mself\u001b[0m\u001b[0;34m)\u001b[0m\u001b[0;34m:\u001b[0m\u001b[0;34m\u001b[0m\u001b[0;34m\u001b[0m\u001b[0m\n",
            "\u001b[0;31mSyntaxError\u001b[0m: invalid syntax (<ipython-input-31-20cab2ed5418>, line 1)"
          ]
        }
      ],
      "source": [
        "ми можемо побачити в датафреймі немає строкових типів даних, вони float aбо int"
      ]
    },
    {
      "cell_type": "markdown",
      "id": "a2272d3e-ef55-417f-8afd-ce07b8b00a55",
      "metadata": {
        "id": "a2272d3e-ef55-417f-8afd-ce07b8b00a55"
      },
      "source": [
        "# Обчислити, скільки проміжків у кожному стовпці (використовуйте методи isnull, sum та len)"
      ]
    },
    {
      "cell_type": "code",
      "execution_count": null,
      "id": "b67ee741-5682-449c-a93a-90691f52b7d1",
      "metadata": {
        "id": "b67ee741-5682-449c-a93a-90691f52b7d1"
      },
      "outputs": [],
      "source": [
        "df.isnull().sum()"
      ]
    },
    {
      "cell_type": "code",
      "execution_count": null,
      "id": "c45711e8-3bee-4346-8412-2a9d5e7926d0",
      "metadata": {
        "id": "c45711e8-3bee-4346-8412-2a9d5e7926d0"
      },
      "outputs": [],
      "source": [
        "df"
      ]
    },
    {
      "cell_type": "markdown",
      "id": "042217df-3754-42b7-9d4e-344ed478fb64",
      "metadata": {
        "id": "042217df-3754-42b7-9d4e-344ed478fb64"
      },
      "source": [
        "# Видалити дані для всієї країни з таблиці в останньому рядку таблиці"
      ]
    },
    {
      "cell_type": "code",
      "execution_count": null,
      "id": "1e78d457-7de3-4281-af64-822ae3846dae",
      "metadata": {
        "id": "1e78d457-7de3-4281-af64-822ae3846dae"
      },
      "outputs": [],
      "source": [
        "df.reset_index(drop=True)"
      ]
    },
    {
      "cell_type": "code",
      "execution_count": null,
      "id": "f48e468a-cd5b-4563-bb8d-d001ce23ac5f",
      "metadata": {
        "id": "f48e468a-cd5b-4563-bb8d-d001ce23ac5f"
      },
      "outputs": [],
      "source": [
        "df.drop(index = 27, inplace=True)"
      ]
    },
    {
      "cell_type": "code",
      "execution_count": null,
      "id": "bed3ae3d-a317-41e6-b751-ee5e2a1ac25e",
      "metadata": {
        "id": "bed3ae3d-a317-41e6-b751-ee5e2a1ac25e"
      },
      "outputs": [],
      "source": [
        "df.shape"
      ]
    },
    {
      "cell_type": "markdown",
      "id": "8049049b-b014-44d1-be56-bc61f6509f82",
      "metadata": {
        "id": "8049049b-b014-44d1-be56-bc61f6509f82"
      },
      "source": [
        "# Замінити пропущені дані у стовпцях середніми значеннями за стовпчиком  (метод fillna)"
      ]
    },
    {
      "cell_type": "code",
      "execution_count": null,
      "id": "3d5a68dd-8e9d-482a-bb45-310d446d34fc",
      "metadata": {
        "id": "3d5a68dd-8e9d-482a-bb45-310d446d34fc"
      },
      "outputs": [],
      "source": [
        "df.fillna(df.mean(), inplace=True)"
      ]
    },
    {
      "cell_type": "code",
      "execution_count": null,
      "id": "e8e85d7b-ca2b-4e9a-84b7-acd65e73953c",
      "metadata": {
        "id": "e8e85d7b-ca2b-4e9a-84b7-acd65e73953c"
      },
      "outputs": [],
      "source": [
        "df.head()"
      ]
    },
    {
      "cell_type": "code",
      "execution_count": null,
      "id": "783d0391-a45c-44f4-9a23-32db406c112a",
      "metadata": {
        "id": "783d0391-a45c-44f4-9a23-32db406c112a"
      },
      "outputs": [],
      "source": [
        "df"
      ]
    },
    {
      "cell_type": "code",
      "execution_count": null,
      "id": "32f42536-9d95-451a-890e-1cf279ea2a25",
      "metadata": {
        "id": "32f42536-9d95-451a-890e-1cf279ea2a25"
      },
      "outputs": [],
      "source": [
        "df\n",
        "df.fillna(df.mean(), inplace=True)"
      ]
    },
    {
      "cell_type": "code",
      "execution_count": null,
      "id": "266a7700-23cf-471c-93f8-2ca30da1f996",
      "metadata": {
        "id": "266a7700-23cf-471c-93f8-2ca30da1f996"
      },
      "outputs": [],
      "source": [
        "df.drop(index=27, inplace = True)"
      ]
    },
    {
      "cell_type": "markdown",
      "id": "e8e69119-2915-4ef3-b855-ddf8fc96dfba",
      "metadata": {
        "id": "e8e69119-2915-4ef3-b855-ddf8fc96dfba"
      },
      "source": [
        "# Отримайте список регіонів, де народжуваність у 2014 році була вищою за середню по Україні"
      ]
    },
    {
      "cell_type": "code",
      "execution_count": null,
      "id": "f31313fd-46e2-4bea-a791-0fff2538fc01",
      "metadata": {
        "id": "f31313fd-46e2-4bea-a791-0fff2538fc01"
      },
      "outputs": [],
      "source": [
        "avg = df['2014'].mean()"
      ]
    },
    {
      "cell_type": "code",
      "execution_count": null,
      "id": "a5886f14-f66e-449b-856e-0b536ca61646",
      "metadata": {
        "id": "a5886f14-f66e-449b-856e-0b536ca61646"
      },
      "outputs": [],
      "source": [
        "df[df['2014'] > avg]"
      ]
    },
    {
      "cell_type": "code",
      "execution_count": null,
      "id": "d68b8c96-83e0-4d85-9d89-4b70e87a8b40",
      "metadata": {
        "id": "d68b8c96-83e0-4d85-9d89-4b70e87a8b40"
      },
      "outputs": [],
      "source": [
        "df[df['2014'] > med]"
      ]
    },
    {
      "cell_type": "markdown",
      "id": "6d8890a3-9d7c-4bdf-a6c4-0c8d57245871",
      "metadata": {
        "id": "6d8890a3-9d7c-4bdf-a6c4-0c8d57245871"
      },
      "source": [
        "# В якому регіоні була найвища народжуваність у 2010 та 2012 роках (окремо)."
      ]
    },
    {
      "cell_type": "code",
      "execution_count": null,
      "id": "1ab592af-d3ea-4688-b016-7e4f6832a2c8",
      "metadata": {
        "id": "1ab592af-d3ea-4688-b016-7e4f6832a2c8"
      },
      "outputs": [],
      "source": [
        "df[['регіон','2012']].groupby('регіон').agg({'2012':'sum'}).sort_values('2012',ascending = False).head()"
      ]
    },
    {
      "cell_type": "code",
      "execution_count": null,
      "id": "01e68d04-3873-4f93-833f-c0fecc962423",
      "metadata": {
        "id": "01e68d04-3873-4f93-833f-c0fecc962423"
      },
      "outputs": [],
      "source": [
        "top_2014 = data = df[['регіон','2014']].sort_values('2014',ascending = False)"
      ]
    },
    {
      "cell_type": "code",
      "execution_count": null,
      "id": "a02af2e1-b4f2-4e33-83bf-76b954961a44",
      "metadata": {
        "id": "a02af2e1-b4f2-4e33-83bf-76b954961a44"
      },
      "outputs": [],
      "source": [
        "top_2014"
      ]
    },
    {
      "cell_type": "markdown",
      "id": "14ecaac2-9fed-4041-b50c-e942e2367c0a",
      "metadata": {
        "id": "14ecaac2-9fed-4041-b50c-e942e2367c0a"
      },
      "source": [
        "# Побудуйте стовпчасту народжуваності за регіонами у 2014 році"
      ]
    },
    {
      "cell_type": "code",
      "execution_count": null,
      "id": "0a63b5c1-17a0-43c2-978b-4d349f93f7f5",
      "metadata": {
        "id": "0a63b5c1-17a0-43c2-978b-4d349f93f7f5"
      },
      "outputs": [],
      "source": [
        "plt.figure(figsize=(10,5))\n",
        "sns.barplot(data = top_2014, x = top_2014['регіон'], y = top_2014['2014'])\n",
        "plt.xticks(rotation=90)"
      ]
    }
  ],
  "metadata": {
    "kernelspec": {
      "display_name": "Python 3 (ipykernel)",
      "language": "python",
      "name": "python3"
    },
    "language_info": {
      "codemirror_mode": {
        "name": "ipython",
        "version": 3
      },
      "file_extension": ".py",
      "mimetype": "text/x-python",
      "name": "python",
      "nbconvert_exporter": "python",
      "pygments_lexer": "ipython3",
      "version": "3.10.9"
    },
    "colab": {
      "provenance": []
    }
  },
  "nbformat": 4,
  "nbformat_minor": 5
}